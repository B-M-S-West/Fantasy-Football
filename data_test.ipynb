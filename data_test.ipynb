{
 "cells": [
  {
   "cell_type": "code",
   "execution_count": 2,
   "id": "73e0cad2-4ebd-4b9e-80e6-72695fedaa05",
   "metadata": {},
   "outputs": [],
   "source": [
    "import requests"
   ]
  },
  {
   "cell_type": "code",
   "execution_count": 3,
   "id": "2a5dcb01-a633-4557-a16b-6536b84c0521",
   "metadata": {},
   "outputs": [],
   "source": [
    "GAME_STATUS_URL = 'https://draft.premierleague.com/api/game'\n",
    "ELEMENT_INFO_URL = 'https://draft.premierleague.com/api/bootstrap-static'\n",
    "LEAGUE_DATA_URL = 'https://draft.premierleague.com/api/league/{}/details'\n",
    "ENTRY_PICKS_URL = 'https://draft.premierleague.com/api/entry/{}/event/{}'\n",
    "ELEMENT_STATS_URL = 'https://draft.premierleague.com/api/event/{}/live'\n",
    "TRANSFERS_URL = 'https://draft.premierleague.com/api/draft/league/{}/transactions'\n",
    "DRAFTS_URL = 'https://draft.premierleague.com/api/draft/{}/choices'\n",
    "MANAGER_HISTORY_URL = 'https://draft.premierleague.com/api/entry/{}/history'"
   ]
  },
  {
   "cell_type": "code",
   "execution_count": 4,
   "id": "08147763-79ee-4582-a3be-69362e03dedb",
   "metadata": {},
   "outputs": [],
   "source": [
    "league_id = 70382"
   ]
  },
  {
   "cell_type": "code",
   "execution_count": 5,
   "id": "230af355-19ad-44c6-a1ec-301a7d9b48dd",
   "metadata": {},
   "outputs": [],
   "source": [
    "entry_id = 339856"
   ]
  },
  {
   "cell_type": "code",
   "execution_count": 6,
   "id": "c717b175-ab4b-439a-8323-089387d8e3cb",
   "metadata": {},
   "outputs": [
    {
     "data": {
      "text/plain": [
       "3"
      ]
     },
     "execution_count": 6,
     "metadata": {},
     "output_type": "execute_result"
    }
   ],
   "source": [
    "response = requests.get(GAME_STATUS_URL)\n",
    "game_status = response.json()\n",
    "current_gameweek = game_status['current_event']\n",
    "current_gameweek"
   ]
  },
  {
   "cell_type": "code",
   "execution_count": 7,
   "id": "d90b2e94-f5ef-44c3-8843-cd45f57315a0",
   "metadata": {
    "scrolled": true
   },
   "outputs": [
    {
     "name": "stdout",
     "output_type": "stream",
     "text": [
      "[{'entry_id': 296815, 'entry_name': 'Democracy MANÉfest', 'id': 299237, 'joined_time': '2024-08-12T19:42:24.173380Z', 'player_first_name': 'Raife', 'player_last_name': 'Breton', 'short_name': 'RB', 'waiver_pick': 7}, {'entry_id': 336922, 'entry_name': 'Fridges Chilwell', 'id': 339856, 'joined_time': '2024-08-13T21:46:41.245484Z', 'player_first_name': 'Alex', 'player_last_name': 'McCafferty', 'short_name': 'AM', 'waiver_pick': 4}, {'entry_id': 337080, 'entry_name': 'Heungardium Levi-osa', 'id': 340018, 'joined_time': '2024-08-13T21:51:38.332131Z', 'player_first_name': 'Harry', 'player_last_name': 'Chapman', 'short_name': 'HC', 'waiver_pick': 1}, {'entry_id': 344796, 'entry_name': 'Belgian Bandits', 'id': 347884, 'joined_time': '2024-08-14T05:29:20.529921Z', 'player_first_name': 'Matthias', 'player_last_name': 'Vangool', 'short_name': 'MV', 'waiver_pick': 10}, {'entry_id': 344966, 'entry_name': 'David Gibheungminson', 'id': 348054, 'joined_time': '2024-08-14T05:44:12.353745Z', 'player_first_name': 'Johnny', 'player_last_name': 'Sow', 'short_name': 'JS', 'waiver_pick': 5}, {'entry_id': 365656, 'entry_name': 'MatetaMakesYouWetta', 'id': 368906, 'joined_time': '2024-08-14T16:34:59.986702Z', 'player_first_name': 'Timothy', 'player_last_name': 'Clark', 'short_name': 'TC', 'waiver_pick': 3}, {'entry_id': 390121, 'entry_name': 'Divockracy Manifest', 'id': 394082, 'joined_time': '2024-08-15T06:13:21.244235Z', 'player_first_name': 'Will', 'player_last_name': 'Ward', 'short_name': 'WW', 'waiver_pick': 2}, {'entry_id': 406064, 'entry_name': 'Botman McGinns', 'id': 410196, 'joined_time': '2024-08-15T13:48:43.517893Z', 'player_first_name': 'Ben', 'player_last_name': 'West', 'short_name': 'BW', 'waiver_pick': 8}, {'entry_id': 408540, 'entry_name': \"Marie's Burning Bush\", 'id': 412701, 'joined_time': '2024-08-15T14:38:14.141269Z', 'player_first_name': 'Charlie', 'player_last_name': 'Broujerdi', 'short_name': 'CB', 'waiver_pick': 6}, {'entry_id': 413161, 'entry_name': 'Here we Guiu again', 'id': 417372, 'joined_time': '2024-08-15T16:02:56.933837Z', 'player_first_name': 'Alex', 'player_last_name': 'Edgerley', 'short_name': 'AE', 'waiver_pick': 9}]\n"
     ]
    }
   ],
   "source": [
    "url = LEAGUE_DATA_URL.format(league_id)\n",
    "response = requests.get(url)\n",
    "league_data = response.json()\n",
    "league_entries = league_data['league_entries']\n",
    "standings = league_data['standings']\n",
    "print(league_entries)\n",
    "#print(standings)"
   ]
  },
  {
   "cell_type": "code",
   "execution_count": 8,
   "id": "c0e569cd-f0ab-426d-8066-ae682aeeeecd",
   "metadata": {},
   "outputs": [
    {
     "data": {
      "text/plain": [
       "[{'id': 181852,\n",
       "  'points': 43,\n",
       "  'total_points': 43,\n",
       "  'rank': None,\n",
       "  'rank_sort': None,\n",
       "  'event_transfers': 0,\n",
       "  'points_on_bench': 0,\n",
       "  'entry': 339856,\n",
       "  'event': 1},\n",
       " {'id': 575062,\n",
       "  'points': 31,\n",
       "  'total_points': 74,\n",
       "  'rank': None,\n",
       "  'rank_sort': None,\n",
       "  'event_transfers': 0,\n",
       "  'points_on_bench': 0,\n",
       "  'entry': 339856,\n",
       "  'event': 2},\n",
       " {'id': 1033807,\n",
       "  'points': 22,\n",
       "  'total_points': 96,\n",
       "  'rank': None,\n",
       "  'rank_sort': None,\n",
       "  'event_transfers': 0,\n",
       "  'points_on_bench': 0,\n",
       "  'entry': 339856,\n",
       "  'event': 3}]"
      ]
     },
     "execution_count": 8,
     "metadata": {},
     "output_type": "execute_result"
    }
   ],
   "source": [
    "url = MANAGER_HISTORY_URL.format(entry_id)\n",
    "response = requests.get(url)\n",
    "response.json()[\"history\"]"
   ]
  },
  {
   "cell_type": "code",
   "execution_count": 9,
   "id": "e4fd6ab8-e452-4a08-a76c-1ed9a146b2ee",
   "metadata": {},
   "outputs": [],
   "source": [
    "# Function to get manager history\n",
    "def get_manager_history(entry_id):\n",
    "  url = MANAGER_HISTORY_URL.format(entry_id)\n",
    "  response = requests.get(url)\n",
    "  if response.status_code == 200:\n",
    "      return response.json()[\"history\"]\n",
    "  else:\n",
    "      print(f\"Failed to get data for entry ID {entry_id}\")\n",
    "      return Non"
   ]
  },
  {
   "cell_type": "code",
   "execution_count": 24,
   "id": "fac2fcbe-6431-4f37-ac34-0d7629d6d0d7",
   "metadata": {},
   "outputs": [
    {
     "name": "stdout",
     "output_type": "stream",
     "text": [
      "{299237: 296815, 339856: 336922, 340018: 337080, 347884: 344796, 348054: 344966, 368906: 365656, 394082: 390121, 410196: 406064, 412701: 408540, 417372: 413161}\n",
      "{296815: ('Raife', 'Democracy MANÉfest'), 336922: ('Alex', 'Fridges Chilwell'), 337080: ('Harry', 'Heungardium Levi-osa'), 344796: ('Matthias', 'Belgian Bandits'), 344966: ('Johnny', 'David Gibheungminson'), 365656: ('Timothy', 'MatetaMakesYouWetta'), 390121: ('Will', 'Divockracy Manifest'), 406064: ('Ben', 'Botman McGinns'), 408540: ('Charlie', \"Marie's Burning Bush\"), 413161: ('Alex', 'Here we Guiu again')}\n"
     ]
    }
   ],
   "source": [
    "# Create mapping from league_entry to entry_id\n",
    "league_entry_to_entry_id = {entry['id']: entry['entry_id'] for entry in league_entries}\n",
    "entry_id_to_name_to_team_map = {entry['entry_id']: (entry['player_first_name'], entry['entry_name']) for entry in league_entries}\n",
    "\n",
    "print(league_entry_to_entry_id)\n",
    "print(entry_id_to_name_to_team_map)"
   ]
  },
  {
   "cell_type": "code",
   "execution_count": 14,
   "id": "bdd6770c-3fe2-43cf-bca3-5f3df1975bd8",
   "metadata": {},
   "outputs": [
    {
     "name": "stdout",
     "output_type": "stream",
     "text": [
      "{296815: [], 336922: [], 337080: [], 344796: [], 344966: [], 365656: [], 390121: [], 406064: [], 408540: [], 413161: []}\n",
      "{296815: [], 336922: [], 337080: [], 344796: [], 344966: [], 365656: [], 390121: [], 406064: [], 408540: [], 413161: []}\n"
     ]
    }
   ],
   "source": [
    "gameweek_scores = {entry['entry_id']: [] for entry in league_entries}\n",
    "total_scores = {entry['entry_id']: [] for entry in league_entries}\n",
    "\n",
    "print(gameweek_scores)\n",
    "print(total_scores)"
   ]
  },
  {
   "cell_type": "code",
   "execution_count": 15,
   "id": "90fc2f3a-06e6-4fa8-9e5c-0e38ae48f51d",
   "metadata": {},
   "outputs": [],
   "source": [
    "# Process each entry ID\n",
    "for entry_id in gameweek_scores.keys():\n",
    "  history = get_manager_history(entry_id)\n",
    "  \n",
    "  if history:\n",
    "      # Sort the history by event number\n",
    "      sorted_history = sorted(history, key=lambda x: x['event'])\n",
    "      \n",
    "      # Initialize event counter\n",
    "      current_event = 1\n",
    "      \n",
    "      for event in sorted_history:\n",
    "          # Fill in any missing events with None\n",
    "          while current_event < event['event']:\n",
    "              gameweek_scores[entry_id].append(None)\n",
    "              total_scores[entry_id].append(None)\n",
    "              current_event += 1\n",
    "          \n",
    "          # Append the actual points and total_points\n",
    "          gameweek_scores[entry_id].append(event['points'])\n",
    "          total_scores[entry_id].append(event['total_points'])\n",
    "          current_event += 1"
   ]
  },
  {
   "cell_type": "code",
   "execution_count": 16,
   "id": "8aaff716-1133-4dcf-9fad-e911436225f6",
   "metadata": {},
   "outputs": [
    {
     "name": "stdout",
     "output_type": "stream",
     "text": [
      "{296815: [38, 52, 50], 336922: [41, 29, 29], 337080: [24, 28, 23], 344796: [63, 32, 52], 344966: [34, 44, 30], 365656: [33, 39, 25], 390121: [30, 35, 19], 406064: [44, 63, 35], 408540: [39, 45, 38], 413161: [47, 51, 48]}\n",
      "{296815: [38, 90, 140], 336922: [41, 70, 99], 337080: [24, 52, 75], 344796: [63, 95, 147], 344966: [34, 78, 108], 365656: [33, 72, 97], 390121: [30, 65, 84], 406064: [44, 107, 142], 408540: [39, 84, 122], 413161: [47, 98, 146]}\n"
     ]
    }
   ],
   "source": [
    "print(gameweek_scores)\n",
    "print(total_scores)"
   ]
  },
  {
   "cell_type": "code",
   "execution_count": 19,
   "id": "447d07ca-c232-45de-99f3-fc61c8352779",
   "metadata": {},
   "outputs": [
    {
     "name": "stdout",
     "output_type": "stream",
     "text": [
      "['Raife']\n"
     ]
    }
   ],
   "source": [
    "print([entry_id_to_name_map[296815]])"
   ]
  },
  {
   "cell_type": "code",
   "execution_count": null,
   "id": "d5d55c62-69fa-44fd-aed1-26515ee5814c",
   "metadata": {},
   "outputs": [],
   "source": []
  }
 ],
 "metadata": {
  "kernelspec": {
   "display_name": "Python 3 (ipykernel)",
   "language": "python",
   "name": "python3"
  },
  "language_info": {
   "codemirror_mode": {
    "name": "ipython",
    "version": 3
   },
   "file_extension": ".py",
   "mimetype": "text/x-python",
   "name": "python",
   "nbconvert_exporter": "python",
   "pygments_lexer": "ipython3",
   "version": "3.12.5"
  }
 },
 "nbformat": 4,
 "nbformat_minor": 5
}
